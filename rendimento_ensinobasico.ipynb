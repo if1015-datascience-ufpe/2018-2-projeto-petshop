{
 "cells": [
  {
   "cell_type": "markdown",
   "metadata": {},
   "source": [
    "# Taxa de rendimento no ensino básico brasileiro\n",
    "Este notebook será usado para fazer análises baseadas no dataframe disponibilizado pelo governo federal sobre o rendimentos dos alunos de diversas escolas espalhadas pelo país e que pode ser verificado através do link http://dados.gov.br/dataset/taxas-de-rendimento-escolar-na-educacao-basica?fbclid=IwAR1k-zIfTDd7K6rWWhIYY9JPyfkjYI8Pm83tY7_K29ZWntVCx5vMGoPCpMM \n",
    "\n",
    "O dataset usado é \"Taxas - município 2010\"\n",
    "Serão apresentados os dados recolhidos, as hipóteses criadas, bem como se foram validadas ou não e algumas visualizações e inferências importantes. "
   ]
  },
  {
   "cell_type": "code",
   "execution_count": null,
   "metadata": {},
   "outputs": [],
   "source": [
    "import pandas as pd\n",
    "from unicodedata import normalize "
   ]
  },
  {
   "cell_type": "code",
   "execution_count": null,
   "metadata": {},
   "outputs": [],
   "source": [
    "file = r'data/TX RENDIMENTO MUNICIPIOS 2010.xls'\n",
    "column_labels = [\n",
    "    'ano', 'regiao', 'uf', 'codigo_municipio', 'nome_municipio', 'localizacao', 'rede',\n",
    "    'aprovacao_fundamental_1', 'aprovacao_fundamental_2', 'aprovacao_fundamental_3',\n",
    "    'aprovacao_fundamental_4', 'aprovacao_fundamental_5', 'aprovacao_fundamental_6',\n",
    "    'aprovacao_fundamental_7', 'aprovacao_fundamental_8', 'aprovacao_fundamental_9',\n",
    "    'aprovacao_fundamental_1:5', 'aprovacao_fundamental_6:9', 'aprovacao_fundamental_1:9',\n",
    "    'aprovacao_medio_1', 'aprovacao_medio_2', 'aprovacao_medio_3', 'aprovacao_medio_4',\n",
    "    'aprovacao_medio_0', 'aprovacao_medio_0:4',\n",
    "    'reprovacao_fundamental_1', 'reprovacao_fundamental_2', 'reprovacao_fundamental_3',\n",
    "    'reprovacao_fundamental_4', 'reprovacao_fundamental_5', 'reprovacao_fundamental_6',\n",
    "    'reprovacao_fundamental_7', 'reprovacao_fundamental_8', 'reprovacao_fundamental_9',\n",
    "    'reprovacao_fundamental_1:5', 'reprovacao_fundamental_6:9', 'reprovacao_fundamental_1:9',\n",
    "    'reprovacao_medio_1', 'reprovacao_medio_2', 'reprovacao_medio_3', 'reprovacao_medio_4',\n",
    "    'reprovacao_medio_0', 'reprovacao_medio_0:4',\n",
    "    'abandono_fundamental_1', 'abandono_fundamental_2', 'abandono_fundamental_3',\n",
    "    'abandono_fundamental_4', 'abandono_fundamental_5', 'abandono_fundamental_6',\n",
    "    'abandono_fundamental_7', 'abandono_fundamental_8', 'abandono_fundamental_9',\n",
    "    'abandono_fundamental_1:5', 'abandono_fundamental_6:9', 'abandono_fundamental_1:9',\n",
    "    'abandono_medio_1', 'abandono_medio_2', 'abandono_medio_3', 'abandono_medio_4',\n",
    "    'abandono_medio_0', 'abandono_medio_0:4',\n",
    "]\n",
    "df_municipios = pd.read_excel(file, skiprows=8, nrows=65460, names=column_labels, na_values='--')\n",
    "\n",
    "df_municipios.head()"
   ]
  },
  {
   "cell_type": "code",
   "execution_count": null,
   "metadata": {},
   "outputs": [],
   "source": [
    "normalize_string = lambda x: normalize('NFKD', x.upper()).encode('ASCII','ignore').decode(\"utf-8\")\n",
    "\n",
    "file = r'data/pib_municipios.xls'\n",
    "df_pib_municipios = pd.read_excel(file, usecols=[0,5], skiprows=8, names=['local', 'pib'], nrows=5601).dropna()\n",
    "df_pib_municipios['local'] = df_pib_municipios['local'].apply(normalize_string)\n",
    "\n",
    "df_pib_municipios.head()"
   ]
  },
  {
   "cell_type": "code",
   "execution_count": null,
   "metadata": {},
   "outputs": [],
   "source": [
    "municipio_to_pib = {\n",
    "    'AROEIRA DO ITAIM': 'AROEIRAS DO ITAIM',\n",
    "    'BARRA D ALCANTARA': 'BARRA D\\'ALCANTARA',\n",
    "    'BATAIPORA': 'BATAYPORA',\n",
    "    'BELA VISTA DO CAROBA': 'BELA VISTA DA CAROBA',\n",
    "    'BELEM DE SAO FRANCISCO': 'BELEM DO SAO FRANCISCO',\n",
    "    'CHIAPETA': 'CHIAPETTA',\n",
    "    'COUTO DE MAGALHAES': 'COUTO MAGALHAES',\n",
    "    'CUVERLANDIA': 'CURVELANDIA',\n",
    "    'GOIO-ERE': 'GOIOERE',\n",
    "    'GOVERNADOR LOMANTO JUNIOR': 'BARRO PRETO',\n",
    "    'ITAMARACA': 'ILHA DE ITAMARACA',\n",
    "    'LAGOA DO ITAENGA': 'LAGOA DE ITAENGA',\n",
    "    'OLHO D AGUA DO PIAUI': 'OLHO D\\'AGUA DO PIAUI',\n",
    "    'OLHOS-D AGUA': 'OLHOS-D\\'AGUA',\n",
    "    'PARATI': 'PARATY',\n",
    "    'PASSA VINTE': 'PASSA-VINTE',\n",
    "    'PICARRAS': 'BALNEARIO PICARRAS',\n",
    "    'PINDARE MIRIM': 'PINDARE-MIRIM',\n",
    "    'PINGO D AGUA': 'PINGO-D\\'AGUA',\n",
    "    'SANTANA DO LIVRAMENTO': 'SANT\\'ANA DO LIVRAMENTO',\n",
    "    'SAO DOMINGOS DE POMBAL': 'POMBAL',\n",
    "    'SAO FELIPE D OESTE': 'SAO FELIPE D\\'OESTE',\n",
    "    'SAO VALERIO DA NATIVIDADE': 'SAO VALERIO',\n",
    "    'SAO VICENTE DO SERIDO': 'SERIDO',\n",
    "    'SEM PEIXE': 'SEM-PEIXE',\n",
    "    'TOCOS DO MOGI': 'TOCOS DO MOJI',\n",
    "    'TRAJANO DE MORAIS': 'TRAJANO DE MORAES'\n",
    "}\n",
    "\n",
    "pib_to_municipio = {\n",
    "    'MOJI MIRIM': 'MOGI MIRIM',\n",
    "}\n",
    "\n",
    "df_municipios.replace(municipio_to_pib, inplace=True)\n",
    "df_pib_municipios.replace(pib_to_municipio, inplace=True)\n",
    "\n",
    "df_municipios = df_municipios[df_municipios.nome_municipio != 'CAMPO DE SANTANA']\n",
    "\n",
    "pass"
   ]
  },
  {
   "cell_type": "code",
   "execution_count": null,
   "metadata": {},
   "outputs": [],
   "source": [
    "df_municipios = pd.merge(df_municipios, df_pib_municipios, left_on='nome_municipio', right_on='local', how='left')\n",
    "df_municipios.drop(['local'], axis=1, inplace=True)\n",
    "\n",
    "cols = df_municipios.columns.tolist()\n",
    "cols = cols[:6] + cols[-1:] + cols[7:-1]\n",
    "df_municipios = df_municipios[cols]\n",
    "\n",
    "df_municipios.head()"
   ]
  },
  {
   "cell_type": "code",
   "execution_count": null,
   "metadata": {},
   "outputs": [],
   "source": [
    "mean_func = lambda col: col.mean()\n",
    "sum_func = lambda col: col.sum()\n",
    "\n",
    "agg_map = {\n",
    "    'pib': sum_func,\n",
    "}\n",
    "agg_map.update({\n",
    "    k: mean_func for k in df_municipios.columns.tolist()[7:]\n",
    "})\n",
    "\n",
    "df = df_municipios.dropna().groupby('uf').agg(agg_map)\n",
    "df"
   ]
  }
 ],
 "metadata": {
  "kernelspec": {
   "display_name": "Python 3",
   "language": "python",
   "name": "python3"
  },
  "language_info": {
   "codemirror_mode": {
    "name": "ipython",
    "version": 3
   },
   "file_extension": ".py",
   "mimetype": "text/x-python",
   "name": "python",
   "nbconvert_exporter": "python",
   "pygments_lexer": "ipython3",
   "version": "3.6.5"
  }
 },
 "nbformat": 4,
 "nbformat_minor": 2
}
