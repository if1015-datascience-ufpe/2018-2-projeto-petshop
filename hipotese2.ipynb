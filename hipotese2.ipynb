{
 "cells": [
  {
   "cell_type": "code",
   "execution_count": null,
   "metadata": {},
   "outputs": [],
   "source": [
    "import pandas as pd\n",
    "from unicodedata import normalize\n",
    "\n",
    "import matplotlib\n",
    "import matplotlib.pyplot as plt\n",
    "import seaborn as sns\n",
    "\n",
    "matplotlib.style.use('ggplot')\n",
    "\n",
    "from bokeh.plotting import figure, show\n",
    "from bokeh.io import output_notebook\n",
    "\n",
    "output_notebook()\n",
    "% matplotlib inline\n",
    "\n",
    "import json\n",
    "import holoviews as hv\n",
    "from bokeh.plotting import figure, show\n",
    "from bokeh.io import output_notebook\n",
    "from bokeh.models import Range1d, NumeralTickFormatter, FixedTicker, Legend\n",
    "from bokeh.palettes import Set1_7, RdBu5, RdBu11\n",
    "\n",
    "#output_notebook()\n",
    "hv.extension('bokeh')"
   ]
  },
  {
   "cell_type": "code",
   "execution_count": null,
   "metadata": {},
   "outputs": [],
   "source": [
    "file = r'data/TX RENDIMENTO MUNICIPIOS 2010.xls'\n",
    "column_labels = [\n",
    "    'ano', 'regiao', 'uf', 'codigo_municipio', 'nome_municipio', 'localizacao', 'rede',\n",
    "    'aprovacao_fundamental_1', 'aprovacao_fundamental_2', 'aprovacao_fundamental_3',\n",
    "    'aprovacao_fundamental_4', 'aprovacao_fundamental_5', 'aprovacao_fundamental_6',\n",
    "    'aprovacao_fundamental_7', 'aprovacao_fundamental_8', 'aprovacao_fundamental_9',\n",
    "    'aprovacao_fundamental_1:5', 'aprovacao_fundamental_6:9', 'aprovacao_fundamental_1:9',\n",
    "    'aprovacao_medio_1', 'aprovacao_medio_2', 'aprovacao_medio_3', 'aprovacao_medio_4',\n",
    "    'aprovacao_medio_0', 'aprovacao_medio_0:4',\n",
    "    'reprovacao_fundamental_1', 'reprovacao_fundamental_2', 'reprovacao_fundamental_3',\n",
    "    'reprovacao_fundamental_4', 'reprovacao_fundamental_5', 'reprovacao_fundamental_6',\n",
    "    'reprovacao_fundamental_7', 'reprovacao_fundamental_8', 'reprovacao_fundamental_9',\n",
    "    'reprovacao_fundamental_1:5', 'reprovacao_fundamental_6:9', 'reprovacao_fundamental_1:9',\n",
    "    'reprovacao_medio_1', 'reprovacao_medio_2', 'reprovacao_medio_3', 'reprovacao_medio_4',\n",
    "    'reprovacao_medio_0', 'reprovacao_medio_0:4',\n",
    "    'abandono_fundamental_1', 'abandono_fundamental_2', 'abandono_fundamental_3',\n",
    "    'abandono_fundamental_4', 'abandono_fundamental_5', 'abandono_fundamental_6',\n",
    "    'abandono_fundamental_7', 'abandono_fundamental_8', 'abandono_fundamental_9',\n",
    "    'abandono_fundamental_1:5', 'abandono_fundamental_6:9', 'abandono_fundamental_1:9',\n",
    "    'abandono_medio_1', 'abandono_medio_2', 'abandono_medio_3', 'abandono_medio_4',\n",
    "    'abandono_medio_0', 'abandono_medio_0:4',\n",
    "]\n",
    "df_municipios = pd.read_excel(file, skiprows=8, nrows=65460, names=column_labels, na_values='--')\n",
    "df_municipios.head()"
   ]
  },
  {
   "cell_type": "code",
   "execution_count": null,
   "metadata": {},
   "outputs": [],
   "source": [
    "normalize_string = lambda x: normalize('NFKD', x.upper()).encode('ASCII','ignore').decode(\"utf-8\")\n",
    "\n",
    "file = r'data/pib_municipios.xls'\n",
    "df_pib_municipios = pd.read_excel(file, usecols=[0,5], skiprows=8, names=['local', 'pib'], nrows=5601).dropna()\n",
    "df_pib_municipios['local'] = df_pib_municipios['local'].apply(normalize_string)\n",
    "\n",
    "df_pib_municipios.head()"
   ]
  },
  {
   "cell_type": "code",
   "execution_count": null,
   "metadata": {},
   "outputs": [],
   "source": []
  }
 ],
 "metadata": {
  "kernelspec": {
   "display_name": "Python 3",
   "language": "python",
   "name": "python3"
  },
  "language_info": {
   "codemirror_mode": {
    "name": "ipython",
    "version": 3
   },
   "file_extension": ".py",
   "mimetype": "text/x-python",
   "name": "python",
   "nbconvert_exporter": "python",
   "pygments_lexer": "ipython3",
   "version": "3.7.0"
  }
 },
 "nbformat": 4,
 "nbformat_minor": 2
}
